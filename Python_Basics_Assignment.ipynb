{
  "nbformat": 4,
  "nbformat_minor": 0,
  "metadata": {
    "colab": {
      "provenance": [],
      "authorship_tag": "ABX9TyNUXQAZMyv/d/2T+hNpfMz3",
      "include_colab_link": true
    },
    "kernelspec": {
      "name": "python3",
      "display_name": "Python 3"
    },
    "language_info": {
      "name": "python"
    }
  },
  "cells": [
    {
      "cell_type": "markdown",
      "metadata": {
        "id": "view-in-github",
        "colab_type": "text"
      },
      "source": [
        "<a href=\"https://colab.research.google.com/github/gouravkumargd79/Python_Basics_Assignment/blob/main/Python_Basics_Assignment.ipynb\" target=\"_parent\"><img src=\"https://colab.research.google.com/assets/colab-badge.svg\" alt=\"Open In Colab\"/></a>"
      ]
    },
    {
      "cell_type": "code",
      "source": [
        "#Q1. Explain the key features of Python that make it a popular choice for programming.\n",
        "'''Ans. 1. Easy to learn: Python has a simple syntax that makes it easy to learn and use.\n",
        "        2. Open source: Python is free to use, download, and modify because it's developed under an OSI-approved open source license.\n",
        "        3. Standard library: Python has a large standard library with modules for web development, databases, file manipulation,\n",
        "           data analysis, and scientific computing.\n",
        "        4. Interpreted: Python is interpreted, so the source code is executed line by line.\n",
        "        5. Portable: Python code can be used on different machines without any changes.\n",
        "        6. Dynamically typed: Python doesn't require declaring the type of a variable.\n",
        "        7. Multi-paradigm: Python supports multiple programming paradigms, including object-oriented programming, procedural programming,\n",
        "           and functional programming.\n",
        "        8. Support for GUI: Python supports graphical user interface.\n",
        "'''"
      ],
      "metadata": {
        "id": "fyXc5qf2Rk3_"
      },
      "execution_count": null,
      "outputs": []
    },
    {
      "cell_type": "code",
      "execution_count": null,
      "metadata": {
        "colab": {
          "base_uri": "https://localhost:8080/",
          "height": 53
        },
        "id": "eubTeXSpahXt",
        "outputId": "497a6eda-4639-4799-c135-7b52d3cd8657"
      },
      "outputs": [
        {
          "output_type": "execute_result",
          "data": {
            "text/plain": [
              "' Ans. Predefined keywords are predefined words that hold a special meaning have special purpose in python programming.\\n         You cannot use predefined keywords for other purposes for example you can not give the same name to a variable name\\n         as predefined keywords. E.g:-> print(),type()'"
            ],
            "application/vnd.google.colaboratory.intrinsic+json": {
              "type": "string"
            }
          },
          "metadata": {},
          "execution_count": 6
        }
      ],
      "source": [
        "# Q2. Describe the role of predefined keywords in Python and provide examples of how they are used in a program.\n",
        "''' Ans. Predefined keywords are predefined words that hold a special meaning have special purpose in python programming.\n",
        "         You cannot use predefined keywords for other purposes for example you can not give the same name to a variable name\n",
        "         as predefined keywords. E.g:-> print(),type()'''"
      ]
    },
    {
      "cell_type": "code",
      "source": [
        "#Examples\n",
        "a = '12'\n",
        "type(a) # print data type of variable"
      ],
      "metadata": {
        "id": "ncbQOPI6nT4Q",
        "colab": {
          "base_uri": "https://localhost:8080/"
        },
        "outputId": "06de2952-de12-46f3-c883-73562f6a2c93"
      },
      "execution_count": null,
      "outputs": [
        {
          "output_type": "execute_result",
          "data": {
            "text/plain": [
              "str"
            ]
          },
          "metadata": {},
          "execution_count": 5
        }
      ]
    },
    {
      "cell_type": "code",
      "source": [
        "print('hello world') # print is a predefined keyword use for output"
      ],
      "metadata": {
        "colab": {
          "base_uri": "https://localhost:8080/"
        },
        "id": "qjprtoKhoBTX",
        "outputId": "983d8e8c-0fda-4219-89d8-fa817a3d92f8"
      },
      "execution_count": null,
      "outputs": [
        {
          "output_type": "stream",
          "name": "stdout",
          "text": [
            "hello world\n"
          ]
        }
      ]
    },
    {
      "cell_type": "code",
      "source": [
        "# Q3. Compare and contrast mutable and immutable objects in Python with examples.\n",
        "''' Ans. Objects / Containers whose state or value can be changed after creation are called mutable objects.\n",
        "         For example, List is a mutable object'''\n",
        "fruit_list = ['apple', 'banana', 'orange', 'pineapple'] #list\n",
        "fruit_list[0]\n",
        "fruit_list[0] = 'guava'\n",
        "fruit_list"
      ],
      "metadata": {
        "id": "QmmE0l9uodAg",
        "colab": {
          "base_uri": "https://localhost:8080/"
        },
        "outputId": "4f8fa2b9-3784-469a-dcb3-4d94827376e9"
      },
      "execution_count": null,
      "outputs": [
        {
          "output_type": "execute_result",
          "data": {
            "text/plain": [
              "['guava', 'banana', 'orange', 'pineapple']"
            ]
          },
          "metadata": {},
          "execution_count": 9
        }
      ]
    },
    {
      "cell_type": "code",
      "source": [
        "''' Objects / Containers whose state or value can't be changed after creation are called immutable objects.\n",
        "         For example, String is a mutable object '''\n",
        "animal_name = 'horse' # string\n",
        "animal_name[0]"
      ],
      "metadata": {
        "colab": {
          "base_uri": "https://localhost:8080/",
          "height": 35
        },
        "id": "LhRT-m8v_rMV",
        "outputId": "f7b8626c-ace7-4c1f-f282-dc55e8baf7db"
      },
      "execution_count": null,
      "outputs": [
        {
          "output_type": "execute_result",
          "data": {
            "text/plain": [
              "'h'"
            ],
            "application/vnd.google.colaboratory.intrinsic+json": {
              "type": "string"
            }
          },
          "metadata": {},
          "execution_count": 10
        }
      ]
    },
    {
      "cell_type": "code",
      "source": [
        "animal_name[0] = 'l'"
      ],
      "metadata": {
        "colab": {
          "base_uri": "https://localhost:8080/",
          "height": 141
        },
        "id": "H-60JbPkAMnq",
        "outputId": "e3af6115-8834-4cd5-eca3-6659480af7a2"
      },
      "execution_count": null,
      "outputs": [
        {
          "output_type": "error",
          "ename": "TypeError",
          "evalue": "'str' object does not support item assignment",
          "traceback": [
            "\u001b[0;31m---------------------------------------------------------------------------\u001b[0m",
            "\u001b[0;31mTypeError\u001b[0m                                 Traceback (most recent call last)",
            "\u001b[0;32m<ipython-input-12-8efade83dd5a>\u001b[0m in \u001b[0;36m<cell line: 1>\u001b[0;34m()\u001b[0m\n\u001b[0;32m----> 1\u001b[0;31m \u001b[0manimal_name\u001b[0m\u001b[0;34m[\u001b[0m\u001b[0;36m0\u001b[0m\u001b[0;34m]\u001b[0m \u001b[0;34m=\u001b[0m \u001b[0;34m'l'\u001b[0m\u001b[0;34m\u001b[0m\u001b[0;34m\u001b[0m\u001b[0m\n\u001b[0m",
            "\u001b[0;31mTypeError\u001b[0m: 'str' object does not support item assignment"
          ]
        }
      ]
    },
    {
      "cell_type": "code",
      "source": [
        "# Q4. Discuss the different types of opertors in Python and provide examples of how they are used.\n",
        "''' Ans. 1. Arithmetic operators : Arithmetic operators are used with numeric values to perform common mathematical operations.\n",
        "            +, -, *, /, %, ** are the aritmetic operators.'''\n",
        "            #Example:-\n",
        "a = 12\n",
        "b = 24\n",
        "c = 25\n",
        "d = 12\n",
        "print(a + b) #Addition\n",
        "print(b - a) #Subtraction\n",
        "print(a * 1) #Multiplication\n",
        "print(b / a) #Division\n",
        "print(c % a) #Modulus\n",
        "print(a ** 2) #Exponentiation\n",
        "\n",
        "\n",
        "'''      2. Comparison operators : they are used to compare two values.\n",
        "            ==, !=, >, <, >=, <= are the comparison operators.'''\n",
        "            #Examples:-\n",
        "\n",
        "if a == d : #Equal\n",
        "  print('a is equal to d')\n",
        "if a != b: #Not Equal\n",
        "  print('a is not equal to b')\n",
        "if(b > a):\n",
        "  print('b is greater than a')\n",
        "if(a < b):\n",
        "  print('a is less than b')\n",
        "if(b >= a):\n",
        "  print('b is grater than or equal to a')\n",
        "if(a <= b):\n",
        "  print('a is grater than or equal to b')\n",
        "\n",
        "\n",
        "'''       3. Logical operators : they are used to combine conditional statements.\n",
        "             and, or and not are the logical operators.'''\n",
        "             #Examples:-\n",
        "\n",
        "if((a == d) and (a != b)): # and operator\n",
        "  print('and operator')\n",
        "\n",
        "if((a == d) or (a !=b)): # or operator\n",
        "  print('or operator')\n",
        "\n",
        "if(not(a != d)): # not operator\n",
        "  print('not opertor') # not operator\n",
        "\n",
        "'''       4. Assignment operators: they are used to assign values to variables.\n",
        "             =, +=, -=, /=, * = are the assignment operators.'''\n",
        "             #Examples:-\n",
        "\n",
        "value = 20 # assignment operator\n",
        "value += 10 # assignment with add number with value\n",
        "print(value)\n",
        "\n",
        "'''       5. Identity operators: they are used to compare the objects, not if they\n",
        "             are equal, but if they are actually the same object, with the same memory location.\n",
        "             is, is not are the identity operators.'''\n",
        "             #Examples:-\n",
        "\n",
        "another_var = value\n",
        "print(another_var is value) # is operator\n",
        "print(another_var is not value) # is not operator\n",
        "\n",
        "'''       6. Membership operators are used to test if a sequence is presented in an object.\n",
        "             in, not in operators are the membership operators.'''\n",
        "             #Examples:-\n",
        "\n",
        "x = ['apple','banana']\n",
        "print('apple' in x) # in operator\n",
        "print('orange' not in x) # not in operator"
      ],
      "metadata": {
        "id": "K3A20-WNASRR",
        "colab": {
          "base_uri": "https://localhost:8080/"
        },
        "outputId": "37c22e64-0e78-48c1-dc72-a6f987b53ec3"
      },
      "execution_count": null,
      "outputs": [
        {
          "output_type": "stream",
          "name": "stdout",
          "text": [
            "36\n",
            "12\n",
            "12\n",
            "2.0\n",
            "1\n",
            "144\n",
            "a is equal to d\n",
            "a is not equal to b\n",
            "b is greater than a\n",
            "a is less than b\n",
            "b is grater than or equal to a\n",
            "a is grater than or equal to b\n",
            "and operator\n",
            "or operator\n",
            "not opertor\n",
            "30\n",
            "True\n",
            "False\n",
            "True\n",
            "True\n"
          ]
        }
      ]
    },
    {
      "cell_type": "code",
      "source": [
        "# Q5. Explain  the concept of type casting in Python with examples.\n",
        "''' Ans. Type casting is changing one data type of value to another.\n",
        "          int(), float(), str(), bool() are used for type casting'''\n",
        "#Example:-\n",
        "a = int('2') +3\n",
        "print(a)"
      ],
      "metadata": {
        "colab": {
          "base_uri": "https://localhost:8080/"
        },
        "id": "NHFbx5eHYdop",
        "outputId": "0e54ac23-0b42-465f-bb81-ded3af7f3713"
      },
      "execution_count": null,
      "outputs": [
        {
          "output_type": "stream",
          "name": "stdout",
          "text": [
            "5\n"
          ]
        }
      ]
    },
    {
      "cell_type": "code",
      "source": [
        "''' There are two types of type casting:-\n",
        "\n",
        "    (a). Implicit.\n",
        "    (b). Explicit.\n",
        "\n",
        "(a) It is the type of casting where python knows about the data type.\n",
        "(b) It is the type of casting where inbuilt functions are used to convert the function.'''\n",
        "#Example:-\n",
        "a = 1 # Python knows a is int data type and is an Implicit casting.\n",
        "b = float('3.4') # It is an explicit casting where float is converting into string data type."
      ],
      "metadata": {
        "id": "thZ8mbGPZavd"
      },
      "execution_count": null,
      "outputs": []
    },
    {
      "cell_type": "code",
      "source": [
        "# Q6. How do conditional statements work in Python? illustrate with examples.\n",
        "''' Ans. Conditional Statements are statements in Python that provide a choice\n",
        "         for the control flow based on a condition.\n",
        "\n",
        "         (a) If Conditional Statement: If the simple code of block is to be performed\n",
        "             if the condition holds then the if statement is used.'''\n",
        "             #Example:-\n",
        "\n",
        "first_var = 12\n",
        "sec_var = 13\n",
        "if(first_var != sec_var) : # if statement\n",
        "  print('not equal')\n",
        "\n",
        "'''      (b) If else Conditional Statement: In a conditional if Statement the additional\n",
        "             block of code is merged as an else statement which is performed when if condition is false '''\n",
        "             #Example:-\n",
        "\n",
        "if(first_var == sec_var) : # if else statement\n",
        "  print('equal')\n",
        "else:\n",
        "    print('not equal')\n",
        "\n",
        "'''      (c) If-elif-else Conditional Statement: The if statements are executed from the top down.\n",
        "             As soon as one of the conditions controlling the if is true, the statement associated with that if is executed,\n",
        "             and the rest of the ladder is bypassed. If none of the conditions is true, then the final “else” statement will be executed.'''\n",
        "             #Example:-\n",
        "\n",
        "if first_var == 14: #if-elif-else statement\n",
        "  print('14')\n",
        "elif first_var == 12:\n",
        "  print('12')\n",
        "else:\n",
        "  print('not')\n",
        "\n",
        "'''       (d) Nested if else Conditional Statement: Nested if..else means an if-else statement inside another if statement'''\n",
        "              #Example:-\n",
        "\n",
        "letter = \"A\" # nested if else statement\n",
        "if letter == \"B\":\n",
        "    print(\"letter is B\")\n",
        "else:\n",
        "    if letter == \"C\":\n",
        "        print(\"letter is C\")\n",
        "    else:\n",
        "        if letter == \"A\":\n",
        "            print(\"letter is A\")\n",
        "        else:\n",
        "            print(\"letter isn't A, B and C\")"
      ],
      "metadata": {
        "colab": {
          "base_uri": "https://localhost:8080/"
        },
        "id": "ErSEzYY7A4d3",
        "outputId": "f89fec93-4bd9-4640-b028-407eec162ddf"
      },
      "execution_count": null,
      "outputs": [
        {
          "output_type": "stream",
          "name": "stdout",
          "text": [
            "not equal\n",
            "not equal\n",
            "12\n",
            "letter is A\n"
          ]
        }
      ]
    },
    {
      "cell_type": "code",
      "source": [
        "# Q7. Describe the different types of loops in Python and their use cases with examples.\n",
        "'''Ans. (a) While loop: a while loop is used to execute a block of statements repeatedly\n",
        "            until a given condition is satisfied'''\n",
        "            #Examples:-\n",
        "\n",
        "count = 0\n",
        "while (count < 3):  # while loop\n",
        "    count = count + 1\n",
        "    print(\"Hello\")\n",
        "\n",
        "'''     (b) For loop: For loops are used for sequential traversal.\n",
        "            For example: traversing a list or string or array etc.'''\n",
        "            #Examples:-\n",
        "\n",
        "n = 4\n",
        "for i in range(0, n): # for loop\n",
        "    print(i)"
      ],
      "metadata": {
        "colab": {
          "base_uri": "https://localhost:8080/"
        },
        "id": "7ul8kOnhBZ12",
        "outputId": "82cfdd66-da93-4312-9005-b5000d565a52"
      },
      "execution_count": null,
      "outputs": [
        {
          "output_type": "stream",
          "name": "stdout",
          "text": [
            "Hello\n",
            "Hello\n",
            "Hello\n",
            "0\n",
            "1\n",
            "2\n",
            "3\n"
          ]
        }
      ]
    },
    {
      "cell_type": "code",
      "source": [],
      "metadata": {
        "id": "8rWfnXEUEoHZ"
      },
      "execution_count": null,
      "outputs": []
    }
  ]
}